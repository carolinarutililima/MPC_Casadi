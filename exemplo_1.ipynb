{
 "cells": [
  {
   "cell_type": "markdown",
   "metadata": {},
   "source": [
    "# https://www.youtube.com/watch?v=JGk1jsAomDk"
   ]
  },
  {
   "cell_type": "code",
   "execution_count": 1,
   "metadata": {},
   "outputs": [
    {
     "name": "stdout",
     "output_type": "stream",
     "text": [
      "@1=sin(x_0), @2=sin(x_1), [((A_0*@1)+(A_2*@2)), ((A_1*@1)+(A_3*@2))]\n"
     ]
    }
   ],
   "source": [
    "from casadi import *\n",
    "\n",
    "x = SX.sym('x', 2)\n",
    "A =  SX.sym('A', 2, 2)\n",
    "e = mtimes(A,sin(x))\n",
    "\n",
    "print(e) "
   ]
  },
  {
   "cell_type": "code",
   "execution_count": 2,
   "metadata": {},
   "outputs": [],
   "source": [
    "r = SX.sym('r')\n",
    "V = 4/3*pi*r**3\n",
    "\n",
    "A = jacobian(V,r)\n",
    "f = Function('f',[r], [A])"
   ]
  },
  {
   "cell_type": "code",
   "execution_count": 3,
   "metadata": {},
   "outputs": [
    {
     "data": {
      "text/plain": [
       "50.26548245743669"
      ]
     },
     "execution_count": 3,
     "metadata": {},
     "output_type": "execute_result"
    }
   ],
   "source": [
    "float(f(2))"
   ]
  },
  {
   "cell_type": "code",
   "execution_count": 4,
   "metadata": {},
   "outputs": [
    {
     "name": "stdout",
     "output_type": "stream",
     "text": [
      "\n",
      "qpOASES -- An Implementation of the Online Active Set Strategy.\n",
      "Copyright (C) 2007-2015 by Hans Joachim Ferreau, Andreas Potschka,\n",
      "Christian Kirches et al. All rights reserved.\n",
      "\n",
      "qpOASES is distributed under the terms of the \n",
      "GNU Lesser General Public License 2.1 in the hope that it will be \n",
      "useful, but WITHOUT ANY WARRANTY; without even the implied warranty \n",
      "of MERCHANTABILITY or FITNESS FOR A PARTICULAR PURPOSE. \n",
      "See the GNU Lesser General Public License for more details.\n",
      "\n"
     ]
    }
   ],
   "source": [
    "#LP problem\n",
    "\n",
    "c = DM([-7000, -6000])\n",
    "\n",
    "A = DM([[4000, 3000], [60, 80]])\n",
    "\n",
    "b = DM([100000, 2000])\n",
    "\n",
    "lb = [0,0]\n",
    "\n",
    "ub = [inf, inf]\n",
    "\n",
    "x =  SX.sym('x', 2)\n",
    "\n",
    "e = mtimes(A, x) - b \n",
    "\n",
    "f1 = mtimes(c.T, x)\n",
    "\n",
    "prob_struct = dict(x=x, f=f1, g=e)\n",
    "\n",
    "solver =qpsol('solver', 'qpoases', prob_struct)\n",
    "\n"
   ]
  },
  {
   "cell_type": "code",
   "execution_count": 5,
   "metadata": {},
   "outputs": [
    {
     "name": "stdout",
     "output_type": "stream",
     "text": [
      "\n",
      "qpOASES -- An Implementation of the Online Active Set Strategy.\n",
      "Copyright (C) 2007-2015 by Hans Joachim Ferreau, Andreas Potschka,\n",
      "Christian Kirches et al. All rights reserved.\n",
      "\n",
      "qpOASES is distributed under the terms of the \n",
      "GNU Lesser General Public License 2.1 in the hope that it will be \n",
      "useful, but WITHOUT ANY WARRANTY; without even the implied warranty \n",
      "of MERCHANTABILITY or FITNESS FOR A PARTICULAR PURPOSE. \n",
      "See the GNU Lesser General Public License for more details.\n",
      "\n",
      "\n",
      "\n",
      "####################   qpOASES  --  QP NO.   1   #####################\n",
      "\n",
      "    Iter   |    StepLength    |       Info       |   nFX   |   nAC    \n",
      " ----------+------------------+------------------+---------+--------- \n",
      "       0   |   1.326355e-04   |   REM BND    0   |     1   |     0   \n",
      "       1   |   1.016979e-15   |   ADD CON    0   |     1   |     1   \n",
      "       2   |   2.719987e-04   |   REM BND    1   |     0   |     1   \n",
      "       3   |   5.844708e-14   |   ADD BND    0   |     1   |     1   \n",
      "       4   |   6.402828e-04   |   ADD CON    1   |     0   |     2   \n",
      "       5   |   1.000000e+00   |    LP SOLVED     |     0   |     2   \n",
      "       5*  |   1.000000e+00   |    LP SOLVED     |     0   |     2   \n"
     ]
    }
   ],
   "source": [
    "sol = solver(x0=[1,1], lbg=[-inf, -inf], ubg = [0,0], lbx=lb, ubx=ub)"
   ]
  },
  {
   "cell_type": "code",
   "execution_count": 6,
   "metadata": {},
   "outputs": [
    {
     "data": {
      "text/plain": [
       "DM([14.2857, 14.2857])"
      ]
     },
     "execution_count": 6,
     "metadata": {},
     "output_type": "execute_result"
    }
   ],
   "source": [
    "sol['x']"
   ]
  },
  {
   "cell_type": "code",
   "execution_count": 7,
   "metadata": {},
   "outputs": [
    {
     "data": {
      "text/plain": [
       "-185714.28571386784"
      ]
     },
     "execution_count": 7,
     "metadata": {},
     "output_type": "execute_result"
    }
   ],
   "source": [
    "float(sol['f'])"
   ]
  },
  {
   "cell_type": "code",
   "execution_count": 8,
   "metadata": {},
   "outputs": [],
   "source": [
    "#NPL problem \n",
    "\n",
    "x = SX.sym('x')\n",
    "y = SX.sym('y')\n",
    "z = y-(1-x)**2\n",
    "f =x**2+100*z**2\n",
    "\n",
    "P = dict(x=vertcat(x,y), f=f)\n",
    "\n",
    "F = nlpsol('F', 'ipopt', P)"
   ]
  },
  {
   "cell_type": "code",
   "execution_count": 9,
   "metadata": {},
   "outputs": [
    {
     "name": "stdout",
     "output_type": "stream",
     "text": [
      "\n",
      "******************************************************************************\n",
      "This program contains Ipopt, a library for large-scale nonlinear optimization.\n",
      " Ipopt is released as open source code under the Eclipse Public License (EPL).\n",
      "         For more information visit https://github.com/coin-or/Ipopt\n",
      "******************************************************************************\n",
      "\n",
      "This is Ipopt version 3.14.11, running with linear solver MUMPS 5.4.1.\n",
      "\n",
      "Number of nonzeros in equality constraint Jacobian...:        0\n",
      "Number of nonzeros in inequality constraint Jacobian.:        0\n",
      "Number of nonzeros in Lagrangian Hessian.............:        3\n",
      "\n",
      "Total number of variables............................:        2\n",
      "                     variables with only lower bounds:        0\n",
      "                variables with lower and upper bounds:        0\n",
      "                     variables with only upper bounds:        0\n",
      "Total number of equality constraints.................:        0\n",
      "Total number of inequality constraints...............:        0\n",
      "        inequality constraints with only lower bounds:        0\n",
      "   inequality constraints with lower and upper bounds:        0\n",
      "        inequality constraints with only upper bounds:        0\n",
      "\n",
      "iter    objective    inf_pr   inf_du lg(mu)  ||d||  lg(rg) alpha_du alpha_pr  ls\n",
      "   0  6.2500000e+01 0.00e+00 1.00e+02  -1.0 0.00e+00    -  0.00e+00 0.00e+00   0\n",
      "   1  7.4172391e+00 0.00e+00 9.18e-01  -1.0 2.20e-01   2.0 1.00e+00 1.00e+00f  1\n",
      "   2  7.3973976e+00 0.00e+00 3.44e-01  -1.7 1.03e-02   1.5 1.00e+00 1.00e+00f  1\n",
      "   3  7.3506173e+00 0.00e+00 3.25e-01  -1.7 2.96e-02   1.0 1.00e+00 1.00e+00f  1\n",
      "   4  7.2093693e+00 0.00e+00 2.99e-01  -1.7 8.90e-02   0.6 1.00e+00 1.00e+00f  1\n",
      "   5  6.7812835e+00 0.00e+00 1.03e+00  -1.7 2.69e-01   0.1 1.00e+00 1.00e+00f  1\n",
      "   6  5.9289624e+00 0.00e+00 6.11e+00  -1.7 1.04e+01    -  1.00e+00 6.25e-02f  5\n",
      "   7  5.0675764e+00 0.00e+00 8.25e+00  -1.7 7.10e-01    -  1.00e+00 1.00e+00f  1\n",
      "   8  4.0182931e+00 0.00e+00 2.64e+00  -1.7 2.45e-01    -  1.00e+00 1.00e+00f  1\n",
      "   9  3.4715637e+00 0.00e+00 4.45e+00  -1.7 7.92e-01    -  1.00e+00 5.00e-01f  2\n",
      "iter    objective    inf_pr   inf_du lg(mu)  ||d||  lg(rg) alpha_du alpha_pr  ls\n",
      "  10  2.7280507e+00 0.00e+00 2.17e+00  -1.7 2.01e-01    -  1.00e+00 1.00e+00f  1\n",
      "  11  2.3811352e+00 0.00e+00 3.25e+00  -1.7 3.15e-01    -  1.00e+00 1.00e+00f  1\n",
      "  12  1.6317913e+00 0.00e+00 7.65e-01  -1.7 8.82e-02    -  1.00e+00 1.00e+00f  1\n",
      "  13  1.4892731e+00 0.00e+00 2.97e+00  -1.7 4.99e-01    -  1.00e+00 5.00e-01f  2\n",
      "  14  9.1177572e-01 0.00e+00 4.07e-01  -1.7 7.21e-02    -  1.00e+00 1.00e+00f  1\n",
      "  15  8.4588869e-01 0.00e+00 2.57e+00  -1.7 4.68e-01    -  1.00e+00 5.00e-01f  2\n",
      "  16  4.3915456e-01 0.00e+00 1.96e-01  -1.7 8.97e-02    -  1.00e+00 1.00e+00f  1\n",
      "  17  3.8321830e-01 0.00e+00 1.84e+00  -2.5 3.97e-01    -  1.00e+00 5.00e-01f  2\n",
      "  18  1.7128571e-01 0.00e+00 1.14e-01  -2.5 9.50e-02    -  1.00e+00 1.00e+00f  1\n",
      "  19  1.1642529e-01 0.00e+00 1.18e+00  -2.5 3.24e-01    -  1.00e+00 5.00e-01f  2\n",
      "iter    objective    inf_pr   inf_du lg(mu)  ||d||  lg(rg) alpha_du alpha_pr  ls\n",
      "  20  4.9728669e-02 0.00e+00 1.36e-01  -2.5 9.98e-02    -  1.00e+00 1.00e+00f  1\n",
      "  21  4.2745485e-02 0.00e+00 1.52e+00  -2.5 2.17e-01    -  1.00e+00 1.00e+00f  1\n",
      "  22  4.3590342e-03 0.00e+00 1.37e-02  -2.5 5.09e-02    -  1.00e+00 1.00e+00f  1\n",
      "  23  1.5086649e-03 0.00e+00 3.44e-01  -3.8 1.16e-01    -  1.00e+00 1.00e+00f  1\n",
      "  24  2.7157356e-06 0.00e+00 3.33e-04  -3.8 8.11e-03    -  1.00e+00 1.00e+00f  1\n",
      "  25  7.3596764e-10 0.00e+00 2.43e-04  -5.7 3.29e-03    -  1.00e+00 1.00e+00f  1\n",
      "  26  6.5517109e-19 0.00e+00 1.63e-10  -5.7 5.70e-06    -  1.00e+00 1.00e+00f  1\n",
      "\n",
      "Number of Iterations....: 26\n",
      "\n",
      "                                   (scaled)                 (unscaled)\n",
      "Objective...............:   1.4722945894828318e-19    6.5517109231986017e-19\n",
      "Dual infeasibility......:   1.6314020238410307e-10    7.2597390060925867e-10\n",
      "Constraint violation....:   0.0000000000000000e+00    0.0000000000000000e+00\n",
      "Variable bound violation:   0.0000000000000000e+00    0.0000000000000000e+00\n",
      "Complementarity.........:   0.0000000000000000e+00    0.0000000000000000e+00\n",
      "Overall NLP error.......:   1.6314020238410307e-10    7.2597390060925867e-10\n",
      "\n",
      "\n",
      "Number of objective function evaluations             = 60\n",
      "Number of objective gradient evaluations             = 27\n",
      "Number of equality constraint evaluations            = 0\n",
      "Number of inequality constraint evaluations          = 0\n",
      "Number of equality constraint Jacobian evaluations   = 0\n",
      "Number of inequality constraint Jacobian evaluations = 0\n",
      "Number of Lagrangian Hessian evaluations             = 26\n",
      "Total seconds in IPOPT                               = 0.021\n",
      "\n",
      "EXIT: Optimal Solution Found.\n",
      "           F  :   t_proc      (avg)   t_wall      (avg)    n_eval\n",
      "       nlp_f  |        0 (       0)  46.00us (766.67ns)        60\n",
      "  nlp_grad_f  |        0 (       0)  29.00us (  1.04us)        28\n",
      "  nlp_hess_l  |        0 (       0)  26.00us (  1.00us)        26\n",
      "       total  |  22.00ms ( 22.00ms)  21.60ms ( 21.60ms)         1\n"
     ]
    }
   ],
   "source": [
    "r = F(x0=[2.5, 3.0])"
   ]
  },
  {
   "cell_type": "code",
   "execution_count": 10,
   "metadata": {},
   "outputs": [
    {
     "name": "stdout",
     "output_type": "stream",
     "text": [
      "[8.09119e-10, 1]\n"
     ]
    }
   ],
   "source": [
    "print(r['x'])"
   ]
  },
  {
   "cell_type": "code",
   "execution_count": 11,
   "metadata": {},
   "outputs": [],
   "source": [
    "#NPL problem \n",
    "\n",
    "x = SX.sym('x')\n",
    "y = SX.sym('y')\n",
    "z = SX.sym('z')\n",
    "f =x**2+100*z**2\n",
    "g = z+(1-x**2-y)\n",
    "\n",
    "P = dict(f=f, g=g, x=vertcat(x,y,z))\n",
    "\n",
    "F = nlpsol('F', 'ipopt', P)"
   ]
  },
  {
   "cell_type": "code",
   "execution_count": 12,
   "metadata": {},
   "outputs": [
    {
     "name": "stdout",
     "output_type": "stream",
     "text": [
      "This is Ipopt version 3.14.11, running with linear solver MUMPS 5.4.1.\n",
      "\n",
      "Number of nonzeros in equality constraint Jacobian...:        3\n",
      "Number of nonzeros in inequality constraint Jacobian.:        0\n",
      "Number of nonzeros in Lagrangian Hessian.............:        2\n",
      "\n",
      "Total number of variables............................:        3\n",
      "                     variables with only lower bounds:        0\n",
      "                variables with lower and upper bounds:        0\n",
      "                     variables with only upper bounds:        0\n",
      "Total number of equality constraints.................:        1\n",
      "Total number of inequality constraints...............:        0\n",
      "        inequality constraints with only lower bounds:        0\n",
      "   inequality constraints with lower and upper bounds:        0\n",
      "        inequality constraints with only upper bounds:        0\n",
      "\n",
      "iter    objective    inf_pr   inf_du lg(mu)  ||d||  lg(rg) alpha_du alpha_pr  ls\n",
      "   0  6.2500000e+01 7.50e+00 9.69e+01  -1.0 0.00e+00    -  0.00e+00 0.00e+00   0\n",
      "   1  4.2268114e+00 1.97e-01 2.74e+00  -1.0 6.03e+00    -  1.00e+00 1.00e+00f  1\n",
      "   2  0.0000000e+00 4.23e+00 0.00e+00  -1.0 8.26e+00    -  1.00e+00 1.00e+00f  1\n",
      "   3  0.0000000e+00 0.00e+00 0.00e+00  -1.0 4.23e+00    -  1.00e+00 1.00e+00h  1\n",
      "\n",
      "Number of Iterations....: 3\n",
      "\n",
      "                                   (scaled)                 (unscaled)\n",
      "Objective...............:   0.0000000000000000e+00    0.0000000000000000e+00\n",
      "Dual infeasibility......:   0.0000000000000000e+00    0.0000000000000000e+00\n",
      "Constraint violation....:   0.0000000000000000e+00    0.0000000000000000e+00\n",
      "Variable bound violation:   0.0000000000000000e+00    0.0000000000000000e+00\n",
      "Complementarity.........:   0.0000000000000000e+00    0.0000000000000000e+00\n",
      "Overall NLP error.......:   0.0000000000000000e+00    0.0000000000000000e+00\n",
      "\n",
      "\n",
      "Number of objective function evaluations             = 4\n",
      "Number of objective gradient evaluations             = 4\n",
      "Number of equality constraint evaluations            = 4\n",
      "Number of inequality constraint evaluations          = 0\n",
      "Number of equality constraint Jacobian evaluations   = 4\n",
      "Number of inequality constraint Jacobian evaluations = 0\n",
      "Number of Lagrangian Hessian evaluations             = 3\n",
      "Total seconds in IPOPT                               = 0.004\n",
      "\n",
      "EXIT: Optimal Solution Found.\n",
      "           F  :   t_proc      (avg)   t_wall      (avg)    n_eval\n",
      "       nlp_f  |        0 (       0)   3.00us (750.00ns)         4\n",
      "       nlp_g  |        0 (       0)  11.00us (  2.75us)         4\n",
      "  nlp_grad_f  |        0 (       0)   8.00us (  1.60us)         5\n",
      "  nlp_hess_l  |        0 (       0)   4.00us (  1.33us)         3\n",
      "   nlp_jac_g  |        0 (       0)   5.00us (  1.00us)         5\n",
      "       total  |   3.00ms (  3.00ms)   3.89ms (  3.89ms)         1\n"
     ]
    }
   ],
   "source": [
    "r = F(x0=[2.5, 3.0, 0.75], ubg=0, lbg=0)"
   ]
  },
  {
   "cell_type": "code",
   "execution_count": 13,
   "metadata": {},
   "outputs": [
    {
     "name": "stdout",
     "output_type": "stream",
     "text": [
      "[0, 1, 0]\n"
     ]
    }
   ],
   "source": [
    "print(r['x'])"
   ]
  },
  {
   "cell_type": "code",
   "execution_count": 2,
   "metadata": {},
   "outputs": [],
   "source": [
    "#NPL problem \n",
    "\n",
    "from casadi import *\n",
    "\n",
    "\n",
    "x = SX.sym('x')\n",
    "y = SX.sym('y')\n",
    "f = -exp(-(x**2+y**2))+0.3*sin(x**3/10+y**2)+1.2\n",
    "\n",
    "P = dict(f=f, x=vertcat(x,y))\n",
    "\n",
    "F = nlpsol('F', 'ipopt', P)\n"
   ]
  },
  {
   "cell_type": "code",
   "execution_count": 4,
   "metadata": {},
   "outputs": [
    {
     "name": "stdout",
     "output_type": "stream",
     "text": [
      "\n",
      "******************************************************************************\n",
      "This program contains Ipopt, a library for large-scale nonlinear optimization.\n",
      " Ipopt is released as open source code under the Eclipse Public License (EPL).\n",
      "         For more information visit https://github.com/coin-or/Ipopt\n",
      "******************************************************************************\n",
      "\n",
      "This is Ipopt version 3.14.11, running with linear solver MUMPS 5.4.1.\n",
      "\n",
      "Number of nonzeros in equality constraint Jacobian...:        0\n",
      "Number of nonzeros in inequality constraint Jacobian.:        0\n",
      "Number of nonzeros in Lagrangian Hessian.............:        3\n",
      "\n",
      "Total number of variables............................:        2\n",
      "                     variables with only lower bounds:        0\n",
      "                variables with lower and upper bounds:        0\n",
      "                     variables with only upper bounds:        0\n",
      "Total number of equality constraints.................:        0\n",
      "Total number of inequality constraints...............:        0\n",
      "        inequality constraints with only lower bounds:        0\n",
      "   inequality constraints with lower and upper bounds:        0\n",
      "        inequality constraints with only upper bounds:        0\n",
      "\n",
      "iter    objective    inf_pr   inf_du lg(mu)  ||d||  lg(rg) alpha_du alpha_pr  ls\n",
      "   0  1.2996628e+00 0.00e+00 6.44e-01  -1.0 0.00e+00    -  0.00e+00 0.00e+00   0\n",
      "   1  1.2949867e+00 0.00e+00 6.50e-01  -1.7 6.50e-03   2.0 1.00e+00 1.00e+00f  1\n",
      "   2  1.2802215e+00 0.00e+00 6.68e-01  -1.7 2.01e-02   1.5 1.00e+00 1.00e+00f  1\n",
      "   3  1.2289087e+00 0.00e+00 7.17e-01  -1.7 6.53e-02   1.0 1.00e+00 1.00e+00f  1\n",
      "   4  1.0020532e+00 0.00e+00 7.89e-01  -1.7 2.38e-01   0.6 1.00e+00 1.00e+00f  1\n",
      "   5  6.7317711e-01 0.00e+00 7.48e-01  -1.7 1.46e+00   0.1 1.00e+00 1.00e+00f  1\n",
      "   6  3.0396581e-01 0.00e+00 5.69e-01  -1.7 7.49e+00    -  1.00e+00 1.25e-01f  4\n",
      "   7  2.1041580e-01 0.00e+00 2.00e-01  -1.7 4.24e-01    -  1.00e+00 1.00e+00f  1\n",
      "   8  2.0000279e-01 0.00e+00 3.29e-03  -1.7 1.02e-01    -  1.00e+00 1.00e+00f  1\n",
      "   9  2.0000000e-01 0.00e+00 2.62e-07  -3.8 1.65e-03    -  1.00e+00 1.00e+00f  1\n",
      "iter    objective    inf_pr   inf_du lg(mu)  ||d||  lg(rg) alpha_du alpha_pr  ls\n",
      "  10  2.0000000e-01 0.00e+00 1.55e-15  -8.6 1.31e-07    -  1.00e+00 1.00e+00f  1\n",
      "\n",
      "Number of Iterations....: 10\n",
      "\n",
      "                                   (scaled)                 (unscaled)\n",
      "Objective...............:   1.9999999999999996e-01    1.9999999999999996e-01\n",
      "Dual infeasibility......:   1.5477747812487513e-15    1.5477747812487513e-15\n",
      "Constraint violation....:   0.0000000000000000e+00    0.0000000000000000e+00\n",
      "Variable bound violation:   0.0000000000000000e+00    0.0000000000000000e+00\n",
      "Complementarity.........:   0.0000000000000000e+00    0.0000000000000000e+00\n",
      "Overall NLP error.......:   1.5477747812487513e-15    1.5477747812487513e-15\n",
      "\n",
      "\n",
      "Number of objective function evaluations             = 18\n",
      "Number of objective gradient evaluations             = 11\n",
      "Number of equality constraint evaluations            = 0\n",
      "Number of inequality constraint evaluations          = 0\n",
      "Number of equality constraint Jacobian evaluations   = 0\n",
      "Number of inequality constraint Jacobian evaluations = 0\n",
      "Number of Lagrangian Hessian evaluations             = 10\n",
      "Total seconds in IPOPT                               = 0.010\n",
      "\n",
      "EXIT: Optimal Solution Found.\n",
      "           F  :   t_proc      (avg)   t_wall      (avg)    n_eval\n",
      "       nlp_f  |        0 (       0)  42.00us (  2.33us)        18\n",
      "  nlp_grad_f  |        0 (       0)  33.00us (  2.75us)        12\n",
      "  nlp_hess_l  |        0 (       0)  19.00us (  1.90us)        10\n",
      "       total  |  11.00ms ( 11.00ms)  10.54ms ( 10.54ms)         1\n"
     ]
    }
   ],
   "source": [
    "r = F(x0=[-1,-1])"
   ]
  },
  {
   "cell_type": "code",
   "execution_count": 5,
   "metadata": {},
   "outputs": [
    {
     "name": "stdout",
     "output_type": "stream",
     "text": [
      "[[ 7.73887391e-16]\n",
      " [-2.77105505e-23]]\n"
     ]
    }
   ],
   "source": [
    "print(r['x'].full())"
   ]
  },
  {
   "cell_type": "code",
   "execution_count": 7,
   "metadata": {},
   "outputs": [],
   "source": [
    "#NPL problem \n",
    "\n",
    "from casadi import *\n",
    "\n",
    "\n",
    "x = SX.sym('x')\n",
    "y = SX.sym('y')\n",
    "f = -exp(-(x**2+y**2))+0.3*sin(x**3/10+y**2)+1.2\n",
    "g =(x+2)**-y**3/2 # restriction\n",
    "\n",
    "P = dict(f=f, g=g, x=vertcat(x,y))\n",
    "\n",
    "F = nlpsol('F', 'ipopt', P)\n"
   ]
  },
  {
   "cell_type": "code",
   "execution_count": 10,
   "metadata": {},
   "outputs": [
    {
     "name": "stdout",
     "output_type": "stream",
     "text": [
      "This is Ipopt version 3.14.11, running with linear solver MUMPS 5.4.1.\n",
      "\n",
      "Number of nonzeros in equality constraint Jacobian...:        0\n",
      "Number of nonzeros in inequality constraint Jacobian.:        2\n",
      "Number of nonzeros in Lagrangian Hessian.............:        3\n",
      "\n",
      "Total number of variables............................:        2\n",
      "                     variables with only lower bounds:        0\n",
      "                variables with lower and upper bounds:        0\n",
      "                     variables with only upper bounds:        0\n",
      "Total number of equality constraints.................:        0\n",
      "Total number of inequality constraints...............:        1\n",
      "        inequality constraints with only lower bounds:        0\n",
      "   inequality constraints with lower and upper bounds:        1\n",
      "        inequality constraints with only upper bounds:        0\n",
      "\n",
      "iter    objective    inf_pr   inf_du lg(mu)  ||d||  lg(rg) alpha_du alpha_pr  ls\n",
      "   0  1.2996628e+00 5.00e-01 6.44e-01  -1.0 0.00e+00    -  0.00e+00 0.00e+00   0\n",
      "   1  9.0459151e-01 1.00e+00 6.83e+00  -1.0 8.43e+00   0.0 1.18e-01 1.00e+00f  1\n",
      "   2  9.0327926e-01 1.00e+00 6.73e+00  -1.0 1.18e+00    -  6.22e-01 1.54e-01h  1\n",
      "   3  9.0326730e-01 1.00e+00 2.68e+02  -1.0 1.00e+00    -  1.00e+00 1.82e-03h  1\n",
      "   4  9.0326718e-01 1.00e+00 1.43e+07  -1.0 1.00e+00    -  1.00e+00 1.82e-05h  1\n",
      "   5r 9.0326718e-01 1.00e+00 1.00e+03   0.0 0.00e+00    -  0.00e+00 9.11e-08R  2\n",
      "   6r 9.0326718e-01 1.00e+00 1.00e-05   0.0 1.00e-03    -  1.00e+00 1.00e+00f  1\n",
      "   7r 9.0326718e-01 1.00e+00 2.12e-06  -2.1 1.49e-03    -  1.00e+00 1.00e+00f  1\n",
      "   8r 9.0326718e-01 1.00e+00 1.91e-10  -4.7 1.20e-05    -  1.00e+00 1.00e+00f  1\n",
      "   9r 9.0326718e-01 1.00e+00 9.09e-13  -7.1 2.85e-08    -  1.00e+00 1.00e+00f  1\n",
      "\n",
      "Number of Iterations....: 9\n",
      "\n",
      "                                   (scaled)                 (unscaled)\n",
      "Objective...............:   9.0326717682375990e-01    9.0326717682375990e-01\n",
      "Dual infeasibility......:   6.5563671764601283e-01    6.5563671764601283e-01\n",
      "Constraint violation....:   9.9999998999999995e-01    9.9999998999999995e-01\n",
      "Variable bound violation:   0.0000000000000000e+00    0.0000000000000000e+00\n",
      "Complementarity.........:   9.0909090566049980e-10    9.0909090566049980e-10\n",
      "Overall NLP error.......:   9.9999998999999995e-01    9.9999998999999995e-01\n",
      "\n",
      "\n",
      "Number of objective function evaluations             = 13\n",
      "Number of objective gradient evaluations             = 7\n",
      "Number of equality constraint evaluations            = 0\n",
      "Number of inequality constraint evaluations          = 13\n",
      "Number of equality constraint Jacobian evaluations   = 0\n",
      "Number of inequality constraint Jacobian evaluations = 12\n",
      "Number of Lagrangian Hessian evaluations             = 10\n",
      "Total seconds in IPOPT                               = 0.009\n",
      "\n",
      "EXIT: Converged to a point of local infeasibility. Problem may be infeasible.\n",
      "           F  :   t_proc      (avg)   t_wall      (avg)    n_eval\n",
      "       nlp_f  |        0 (       0)  71.00us (  1.54us)        46\n",
      "       nlp_g  |   4.00ms ( 42.55us)   4.30ms ( 45.74us)        94\n",
      "  nlp_grad_f  |   1.00ms ( 24.39us)  71.00us (  1.73us)        41\n",
      "  nlp_hess_l  |        0 (       0) 116.00us (  2.90us)        40\n",
      "   nlp_jac_g  |        0 (       0) 125.00us (  2.72us)        46\n",
      "       total  |  10.00ms ( 10.00ms)  10.07ms ( 10.07ms)         1\n"
     ]
    }
   ],
   "source": [
    "r = F(x0=[-1,-1], ubg=3, lbg=1 )"
   ]
  },
  {
   "cell_type": "code",
   "execution_count": 11,
   "metadata": {},
   "outputs": [
    {
     "name": "stdout",
     "output_type": "stream",
     "text": [
      "[[0.36803503]\n",
      " [7.42432523]]\n"
     ]
    }
   ],
   "source": [
    "print(r['x'].full())"
   ]
  },
  {
   "cell_type": "code",
   "execution_count": null,
   "metadata": {},
   "outputs": [],
   "source": []
  }
 ],
 "metadata": {
  "kernelspec": {
   "display_name": "base",
   "language": "python",
   "name": "python3"
  },
  "language_info": {
   "codemirror_mode": {
    "name": "ipython",
    "version": 3
   },
   "file_extension": ".py",
   "mimetype": "text/x-python",
   "name": "python",
   "nbconvert_exporter": "python",
   "pygments_lexer": "ipython3",
   "version": "3.11.9"
  }
 },
 "nbformat": 4,
 "nbformat_minor": 2
}
