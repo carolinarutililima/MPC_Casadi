{
 "cells": [
  {
   "cell_type": "markdown",
   "metadata": {},
   "source": [
    "# https://www.youtube.com/watch?v=0dt0mujOgzY"
   ]
  },
  {
   "cell_type": "code",
   "execution_count": 1,
   "metadata": {},
   "outputs": [],
   "source": [
    "from casadi import *\n"
   ]
  },
  {
   "cell_type": "code",
   "execution_count": 2,
   "metadata": {},
   "outputs": [],
   "source": [
    "x = SX.sym('x')\n",
    "z = SX.sym('z')\n",
    "p = SX.sym('p')"
   ]
  },
  {
   "cell_type": "code",
   "execution_count": 3,
   "metadata": {},
   "outputs": [],
   "source": [
    "dae =  dict(x=x,z=z, p=p, ode = z+p, alg =z*cos(z)-x)"
   ]
  },
  {
   "cell_type": "code",
   "execution_count": 6,
   "metadata": {},
   "outputs": [],
   "source": [
    "F = integrator('F', 'idas', dae)"
   ]
  },
  {
   "cell_type": "code",
   "execution_count": 7,
   "metadata": {},
   "outputs": [
    {
     "name": "stdout",
     "output_type": "stream",
     "text": [
      "F:(x0,z0,p,u[0],adj_xf[],adj_zf[],adj_qf[])->(xf,zf,qf[0],adj_x0[],adj_z0[],adj_p[],adj_u[]) IdasInterface\n"
     ]
    }
   ],
   "source": [
    "print(F)"
   ]
  },
  {
   "cell_type": "code",
   "execution_count": 12,
   "metadata": {},
   "outputs": [],
   "source": [
    "r = F(x0=0, z0=0, p=0.1)"
   ]
  },
  {
   "cell_type": "code",
   "execution_count": 13,
   "metadata": {},
   "outputs": [
    {
     "name": "stdout",
     "output_type": "stream",
     "text": [
      "0.1724\n"
     ]
    }
   ],
   "source": [
    "print(r['xf'])"
   ]
  },
  {
   "cell_type": "code",
   "execution_count": 15,
   "metadata": {},
   "outputs": [],
   "source": [
    "x = SX.sym('x', 2)\n",
    "p = SX.sym('p')\n",
    "z = 1-x[1]**2\n",
    "f = vertcat(z*x[0]-x[1]+p,x[0])\n"
   ]
  },
  {
   "cell_type": "code",
   "execution_count": 16,
   "metadata": {},
   "outputs": [],
   "source": [
    "dae = dict(x=x, p=p, ode=f)"
   ]
  },
  {
   "cell_type": "code",
   "execution_count": 17,
   "metadata": {},
   "outputs": [
    {
     "name": "stderr",
     "output_type": "stream",
     "text": [
      "CasADi - 2024-05-06 14:11:29 WARNING(\"The options 't0', 'tf', 'grid' and 'output_t0' have been deprecated.\n",
      "The same functionality is provided by providing additional input arguments to the 'integrator' function, in particular:\n",
      " * Call integrator(..., t0, tf, options) for a single output time, or\n",
      " * Call integrator(..., t0, grid, options) for multiple grid points.\n",
      "The legacy 'output_t0' option can be emulated by including or excluding 't0' in 'grid'.\n",
      "Backwards compatibility is provided in this release only.\") [.../casadi/core/integrator.cpp:515]\n"
     ]
    }
   ],
   "source": [
    "op=dict(t0=0, tf=1)\n",
    "F = integrator('F', 'cvodes', dae, op)"
   ]
  },
  {
   "cell_type": "code",
   "execution_count": 18,
   "metadata": {},
   "outputs": [],
   "source": [
    "r = F(x0=[0,1], p=0.1)"
   ]
  },
  {
   "cell_type": "code",
   "execution_count": 19,
   "metadata": {},
   "outputs": [
    {
     "name": "stdout",
     "output_type": "stream",
     "text": [
      "[-0.922372, 0.551573]\n"
     ]
    }
   ],
   "source": [
    "print(r['xf'])"
   ]
  },
  {
   "cell_type": "code",
   "execution_count": 20,
   "metadata": {},
   "outputs": [],
   "source": [
    "a = SX.sym('a')\n",
    "b =SX.sym('b')\n",
    "sum1 = a+b\n",
    "prod1 = a*b\n",
    "F1 = Function('F1', [a,b], [sum1, prod1], ['a', 'b'], ['sx', 'xp'])"
   ]
  },
  {
   "cell_type": "code",
   "execution_count": 21,
   "metadata": {},
   "outputs": [],
   "source": [
    "s1 = F1(a=2, b=3)"
   ]
  },
  {
   "cell_type": "code",
   "execution_count": 23,
   "metadata": {},
   "outputs": [
    {
     "name": "stdout",
     "output_type": "stream",
     "text": [
      "[[5.]]\n"
     ]
    }
   ],
   "source": [
    "print(s1['sx'].full())"
   ]
  },
  {
   "cell_type": "code",
   "execution_count": 30,
   "metadata": {},
   "outputs": [
    {
     "name": "stdout",
     "output_type": "stream",
     "text": [
      "[0.417739, 0.622907]\n",
      "0.467047\n"
     ]
    }
   ],
   "source": [
    "# Diretc multiple shooting\n",
    "T = 20. # Time horizon\n",
    "N = 20 # Number of control intervals\n",
    "\n",
    "\n",
    "# Declare model variables\n",
    "x1 = MX.sym('x1')\n",
    "x2 = MX.sym('x2')\n",
    "x = vertcat(x1,x2)\n",
    "u = MX.sym('u')\n",
    "\n",
    "# Model equation\n",
    "xdot = vertcat((1-x2**2)*x1 - x2+ u, x1)\n",
    "\n",
    "# Objective term \n",
    "L= x1**2 + x2 **2 + u ** 2\n",
    "\n",
    "# Formulate discrete time dynamics\n",
    "if False:\n",
    "    # CVODES from the SUNDIALS SUITE \n",
    "\n",
    "    #dae = dict(x=x, p=u, odex=xdot, quad=L) the same as \n",
    "\n",
    "    dae = {'x': x, 'p': u, 'ode':xdot, 'quad':L}\n",
    "    opts = {'tf': T/N}\n",
    "    F = integrator('F', 'cvodes', dae, opts)\n",
    "else:\n",
    "    # Fixed step Rune-Kutta 4 integrator\n",
    "    M = 4\n",
    "    DT = T/N/M\n",
    "    f = Function('f', [x,u], [xdot, L])\n",
    "    X0 = MX.sym('X0', 2)\n",
    "    U = MX.sym('U')\n",
    "    X = X0\n",
    "    Q = 0\n",
    "    for i in range(M):\n",
    "        k1, k1_q = f(X,U)\n",
    "        k2, k2_q = f(X + DT/2* k1, U)\n",
    "        k3, k3_q = f(X + DT/2* k2, U)\n",
    "        k4, k4_q = f(X + DT/2* k3, U)\n",
    "        X = X+DT/6*(k1+2*k2+ 2*k3+k4)\n",
    "        Q = Q + DT/6*(k1_q+2*k2_q+2*k3_q+k4_q)\n",
    "    \n",
    "    F= Function('F', [X0, U], [X, Q], ['x0','p'], ['xf', 'qf'])\n",
    "\n",
    "# Evaluate at a test point\n",
    "Fk = F(x0=[0.2,0.3], p = 0.4)\n",
    "print(Fk['xf'])\n",
    "print(Fk['qf'])\n",
    "\n"
   ]
  },
  {
   "cell_type": "code",
   "execution_count": 43,
   "metadata": {},
   "outputs": [],
   "source": [
    "# Start with an empty NPL\n",
    "\n",
    "w = []\n",
    "w0 = []\n",
    "lbw = []\n",
    "ubw = []\n",
    "J = 0 \n",
    "g = []\n",
    "ubg = []\n",
    "lbg = []\n",
    "\n",
    "# 'Lift' initial condictions\n",
    "Xk = MX.sym('X0', 2)\n",
    "w += [Xk]\n",
    "lbw += [0,1]\n",
    "ubw += [0,1]\n",
    "w0 += [0,1]\n"
   ]
  },
  {
   "cell_type": "code",
   "execution_count": 44,
   "metadata": {},
   "outputs": [],
   "source": [
    "# Formulate the NPL\n",
    "\n",
    "for k in range(N):\n",
    "\n",
    "    # new NLP variable for the control\n",
    "    Uk = MX.sym('U_'+str(k))\n",
    "    w += [ Uk]\n",
    "    lbw += [-1]\n",
    "    ubw  += [1]\n",
    "    w0 += [0]\n",
    "\n",
    "    # Integrate till end of the interval\n",
    "    Fk = F(x0=Xk, p=Uk)\n",
    "    Xk_end = Fk['xf']\n",
    "    J = J+Fk['qf']\n",
    "\n",
    "    # New NLP variable for state at end of interval\n",
    "    Xk = MX.sym('X_'+str(k+1), 2)\n",
    "    w += [Xk]\n",
    "    lbw += [-0.25, -inf]\n",
    "    ubw += [0, 0]\n",
    "\n",
    "    # Add equality constraint \n",
    "    g += [Xk_end-Xk]\n",
    "    lbg += [0, 0]\n",
    "    ubg += [0, 0]\n"
   ]
  },
  {
   "cell_type": "code",
   "execution_count": 50,
   "metadata": {},
   "outputs": [
    {
     "data": {
      "text/plain": [
       "MX(vertcat(X0, U_0, X_1, U_1, X_2, U_2, X_3, U_3, X_4, U_4, X_5, U_5, X_6, U_6, X_7, U_7, X_8, U_8, X_9, U_9, X_10, U_10, X_11, U_11, X_12, U_12, X_13, U_13, X_14, U_14, X_15, U_15, X_16, U_16, X_17, U_17, X_18, U_18, X_19, U_19, X_20))"
      ]
     },
     "execution_count": 50,
     "metadata": {},
     "output_type": "execute_result"
    }
   ],
   "source": [
    "vertcat(*w)"
   ]
  },
  {
   "cell_type": "code",
   "execution_count": 49,
   "metadata": {},
   "outputs": [
    {
     "ename": "RuntimeError",
     "evalue": "Error in Function::call for 'solver' [IpoptInterface] at .../casadi/core/function.cpp:1432:\nError in Function::call for 'solver' [IpoptInterface] at .../casadi/core/function.cpp:361:\n.../casadi/core/function_internal.hpp:1649: Input 0 (x0) has mismatching shape. Got 22-by-1. Allowed dimensions, in general, are:\n - The input dimension N-by-M (here 62-by-1)\n - A scalar, i.e. 1-by-1\n - M-by-N if N=1 or M=1 (i.e. a transposed vector)\n - N-by-M1 if K*M1=M for some K (argument repeated horizontally)\n - N-by-P*M, indicating evaluation with multiple arguments (P must be a multiple of 1 for consistency with previous inputs)",
     "output_type": "error",
     "traceback": [
      "\u001b[1;31m---------------------------------------------------------------------------\u001b[0m",
      "\u001b[1;31mRuntimeError\u001b[0m                              Traceback (most recent call last)",
      "\u001b[1;32m~\\AppData\\Local\\Temp\\ipykernel_7120\\1225229821.py\u001b[0m in \u001b[0;36m?\u001b[1;34m()\u001b[0m\n\u001b[0;32m      3\u001b[0m \u001b[0mprob\u001b[0m \u001b[1;33m=\u001b[0m \u001b[1;33m{\u001b[0m\u001b[1;34m'f'\u001b[0m\u001b[1;33m:\u001b[0m \u001b[0mJ\u001b[0m\u001b[1;33m,\u001b[0m \u001b[1;34m'x'\u001b[0m\u001b[1;33m:\u001b[0m\u001b[0mvertcat\u001b[0m\u001b[1;33m(\u001b[0m\u001b[1;33m*\u001b[0m\u001b[0mw\u001b[0m\u001b[1;33m)\u001b[0m\u001b[1;33m,\u001b[0m \u001b[1;34m'g'\u001b[0m\u001b[1;33m:\u001b[0m \u001b[0mvertcat\u001b[0m\u001b[1;33m(\u001b[0m\u001b[1;33m*\u001b[0m\u001b[0mg\u001b[0m\u001b[1;33m)\u001b[0m\u001b[1;33m}\u001b[0m\u001b[1;33m\u001b[0m\u001b[1;33m\u001b[0m\u001b[0m\n\u001b[0;32m      4\u001b[0m \u001b[0msolver\u001b[0m \u001b[1;33m=\u001b[0m \u001b[0mnlpsol\u001b[0m\u001b[1;33m(\u001b[0m\u001b[1;34m'solver'\u001b[0m\u001b[1;33m,\u001b[0m \u001b[1;34m'ipopt'\u001b[0m\u001b[1;33m,\u001b[0m \u001b[0mprob\u001b[0m\u001b[1;33m)\u001b[0m\u001b[1;33m\u001b[0m\u001b[1;33m\u001b[0m\u001b[0m\n\u001b[0;32m      5\u001b[0m \u001b[1;33m\u001b[0m\u001b[0m\n\u001b[0;32m      6\u001b[0m \u001b[1;31m# Solve the NLP\u001b[0m\u001b[1;33m\u001b[0m\u001b[1;33m\u001b[0m\u001b[0m\n\u001b[1;32m----> 7\u001b[1;33m \u001b[0msol\u001b[0m \u001b[1;33m=\u001b[0m \u001b[0msolver\u001b[0m\u001b[1;33m(\u001b[0m\u001b[0mx0\u001b[0m\u001b[1;33m=\u001b[0m\u001b[0mw0\u001b[0m\u001b[1;33m,\u001b[0m \u001b[0mlbx\u001b[0m\u001b[1;33m=\u001b[0m\u001b[0mlbw\u001b[0m\u001b[1;33m,\u001b[0m \u001b[0mubx\u001b[0m\u001b[1;33m=\u001b[0m\u001b[0mubw\u001b[0m\u001b[1;33m,\u001b[0m \u001b[0mlbg\u001b[0m\u001b[1;33m=\u001b[0m\u001b[0mlbg\u001b[0m\u001b[1;33m,\u001b[0m \u001b[0mubg\u001b[0m\u001b[1;33m=\u001b[0m\u001b[0mubg\u001b[0m\u001b[1;33m)\u001b[0m\u001b[1;33m\u001b[0m\u001b[1;33m\u001b[0m\u001b[0m\n\u001b[0m\u001b[0;32m      8\u001b[0m \u001b[0mw_opt\u001b[0m \u001b[1;33m=\u001b[0m \u001b[0msol\u001b[0m\u001b[1;33m[\u001b[0m\u001b[1;34m'x'\u001b[0m\u001b[1;33m]\u001b[0m\u001b[1;33m.\u001b[0m\u001b[0mful\u001b[0m\u001b[1;33m(\u001b[0m\u001b[1;33m)\u001b[0m\u001b[1;33m.\u001b[0m\u001b[0mflatten\u001b[0m\u001b[1;33m(\u001b[0m\u001b[1;33m)\u001b[0m\u001b[1;33m\u001b[0m\u001b[1;33m\u001b[0m\u001b[0m\n\u001b[0;32m      9\u001b[0m \u001b[1;33m\u001b[0m\u001b[0m\n\u001b[0;32m     10\u001b[0m \u001b[1;31m# Plt the solution\u001b[0m\u001b[1;33m\u001b[0m\u001b[1;33m\u001b[0m\u001b[0m\n",
      "\u001b[1;32m~\\AppData\\Local\\Packages\\PythonSoftwareFoundation.Python.3.11_qbz5n2kfra8p0\\LocalCache\\local-packages\\Python311\\site-packages\\casadi\\casadi.py\u001b[0m in \u001b[0;36m?\u001b[1;34m(self, *args, **kwargs)\u001b[0m\n\u001b[0;32m  23378\u001b[0m         \u001b[1;32melse\u001b[0m\u001b[1;33m:\u001b[0m\u001b[1;33m\u001b[0m\u001b[1;33m\u001b[0m\u001b[0m\n\u001b[0;32m  23379\u001b[0m           \u001b[1;32mreturn\u001b[0m \u001b[0mtuple\u001b[0m\u001b[1;33m(\u001b[0m\u001b[0mret\u001b[0m\u001b[1;33m)\u001b[0m\u001b[1;33m\u001b[0m\u001b[1;33m\u001b[0m\u001b[0m\n\u001b[0;32m  23380\u001b[0m       \u001b[1;32melse\u001b[0m\u001b[1;33m:\u001b[0m\u001b[1;33m\u001b[0m\u001b[1;33m\u001b[0m\u001b[0m\n\u001b[0;32m  23381\u001b[0m     \u001b[1;31m# Named inputs -> return dictionary\u001b[0m\u001b[1;33m\u001b[0m\u001b[1;33m\u001b[0m\u001b[0m\n\u001b[1;32m> 23382\u001b[1;33m         \u001b[1;32mreturn\u001b[0m \u001b[0mself\u001b[0m\u001b[1;33m.\u001b[0m\u001b[0mcall\u001b[0m\u001b[1;33m(\u001b[0m\u001b[0mkwargs\u001b[0m\u001b[1;33m)\u001b[0m\u001b[1;33m\u001b[0m\u001b[1;33m\u001b[0m\u001b[0m\n\u001b[0m",
      "\u001b[1;32m~\\AppData\\Local\\Packages\\PythonSoftwareFoundation.Python.3.11_qbz5n2kfra8p0\\LocalCache\\local-packages\\Python311\\site-packages\\casadi\\casadi.py\u001b[0m in \u001b[0;36m?\u001b[1;34m(self, *args)\u001b[0m\n\u001b[0;32m  20027\u001b[0m \u001b[1;33m\u001b[0m\u001b[0m\n\u001b[0;32m  20028\u001b[0m \u001b[1;33m\u001b[0m\u001b[0m\n\u001b[0;32m  20029\u001b[0m \u001b[1;33m\u001b[0m\u001b[0m\n\u001b[0;32m  20030\u001b[0m         \"\"\"\n\u001b[1;32m> 20031\u001b[1;33m         \u001b[1;32mreturn\u001b[0m \u001b[0m_casadi\u001b[0m\u001b[1;33m.\u001b[0m\u001b[0mFunction_call\u001b[0m\u001b[1;33m(\u001b[0m\u001b[0mself\u001b[0m\u001b[1;33m,\u001b[0m \u001b[1;33m*\u001b[0m\u001b[0margs\u001b[0m\u001b[1;33m)\u001b[0m\u001b[1;33m\u001b[0m\u001b[1;33m\u001b[0m\u001b[0m\n\u001b[0m",
      "\u001b[1;31mRuntimeError\u001b[0m: Error in Function::call for 'solver' [IpoptInterface] at .../casadi/core/function.cpp:1432:\nError in Function::call for 'solver' [IpoptInterface] at .../casadi/core/function.cpp:361:\n.../casadi/core/function_internal.hpp:1649: Input 0 (x0) has mismatching shape. Got 22-by-1. Allowed dimensions, in general, are:\n - The input dimension N-by-M (here 62-by-1)\n - A scalar, i.e. 1-by-1\n - M-by-N if N=1 or M=1 (i.e. a transposed vector)\n - N-by-M1 if K*M1=M for some K (argument repeated horizontally)\n - N-by-P*M, indicating evaluation with multiple arguments (P must be a multiple of 1 for consistency with previous inputs)"
     ]
    }
   ],
   "source": [
    "# Create an NPL solver \n",
    "\n",
    "prob = {'f': J, 'x':vertcat(*w), 'g': vertcat(*g)}\n",
    "solver = nlpsol('solver', 'ipopt', prob)\n",
    "\n",
    "# Solve the NLP\n",
    "sol = solver(x0=w0, lbx=lbw, ubx=ubw, lbg=lbg, ubg=ubg)\n",
    "w_opt = sol['x'].ful().flatten()\n",
    "\n",
    "# Plt the solution\n",
    "x1_opt = w_opt[0::3]\n",
    "x2_opt = w_opt[1::3]\n",
    "u_pot = w_opt[2::3]\n",
    "\n",
    "tgrid = [T/N*k for k in range(N+1)]\n",
    "import matplotlib.pyplot as plt\n",
    "plt.figure(1)\n",
    "plt.clf()\n",
    "plt.plot(tgrid, x1_opt, '--')\n",
    "plt.plot(tgrid, x2_opt, '-')\n",
    "plt.step(tgrid, vertcat(DM.nan(1), u_pot), '-.')\n",
    "plt.xlabel('t')\n",
    "plt.legend(['x1', 'x2', 'u'])\n",
    "plt.grid()\n",
    "plt.show()\n",
    "\n"
   ]
  },
  {
   "cell_type": "code",
   "execution_count": null,
   "metadata": {},
   "outputs": [],
   "source": []
  }
 ],
 "metadata": {
  "kernelspec": {
   "display_name": "Python 3",
   "language": "python",
   "name": "python3"
  },
  "language_info": {
   "codemirror_mode": {
    "name": "ipython",
    "version": 3
   },
   "file_extension": ".py",
   "mimetype": "text/x-python",
   "name": "python",
   "nbconvert_exporter": "python",
   "pygments_lexer": "ipython3",
   "version": "3.11.9"
  }
 },
 "nbformat": 4,
 "nbformat_minor": 2
}
